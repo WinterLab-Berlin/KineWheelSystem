{
 "cells": [
  {
   "cell_type": "markdown",
   "metadata": {
    "id": "RK255E7YoEIt"
   },
   "source": [
    "# Inference\n",
    "\n",
    "Use this notebook to run inference on your local machine, i.e., predict the\n",
    "location of paws in raw video data using a deep neural network. Prediction\n",
    "results (i.e., frame-by-frame x-/y-coordinates of each located paw) are stored\n",
    "in an HDF5 and \n",
    "\n",
    "A GPU is not required, but reduces the processing time.\n"
   ]
  },
  {
   "cell_type": "markdown",
   "metadata": {
    "id": "RrPP8_6KdONJ"
   },
   "source": [
    "## Configuration\n",
    "\n",
    "**Note:** Change the following values to match your DLC project:\n",
    "\n",
    "- `dlc_project_folder`: Full path to the DLC project folder."
   ]
  },
  {
   "cell_type": "code",
   "execution_count": null,
   "metadata": {
    "colab": {
     "base_uri": "https://localhost:8080/"
    },
    "id": "DBKDUgwldONJ",
    "outputId": "7b3a249d-12e0-431a-f19d-ce3aea20d5de",
    "tags": []
   },
   "outputs": [],
   "source": [
    "dlc_project_folder = r'c:\\full\\path\\to\\DLC-project-folder'"
   ]
  },
  {
   "cell_type": "markdown",
   "metadata": {
    "id": "OVFLSKKfoEJk"
   },
   "source": [
    "## Analyze videos\n",
    "\n",
    "> TODO: Re-write text.\n",
    "\n",
    "This function analyzes new videos. The user can choose the best model from the evaluation results and specify the correct snapshot index for the variable **snapshotindex** in the **config.yaml** file. Otherwise, by default the most recent snapshot is used to analyse the video.\n",
    "\n",
    "The results are stored in hd5 file in the same directory where the video resides. "
   ]
  },
  {
   "cell_type": "code",
   "execution_count": null,
   "metadata": {
    "execution": {
     "iopub.execute_input": "2022-08-29T06:25:49.408697Z",
     "iopub.status.busy": "2022-08-29T06:25:49.407603Z",
     "iopub.status.idle": "2022-08-29T07:14:32.188008Z",
     "shell.execute_reply": "2022-08-29T07:14:32.186871Z",
     "shell.execute_reply.started": "2022-08-29T06:25:49.408619Z"
    },
    "id": "Y_LZiS_0oEJl"
   },
   "outputs": [],
   "source": [
    "# To analyze all videos in a particular folder, set the variable to the\n",
    "# absolute path of that folder.\n",
    "# To analyze specific videos, specify them as a list of absolute paths.\n",
    "video_paths = r'/path/to/video-folder'   # or: [r'/path/video1.mp4', ...]\n",
    "\n",
    "deeplabcut.analyze_videos(dlc_config_path, video_paths)"
   ]
  },
  {
   "cell_type": "markdown",
   "metadata": {
    "id": "pqaCw15v8EmB"
   },
   "source": [
    "Now you can look at the plot-poses file and check the \"plot-likelihood.png\" might want to change the \"p-cutoff\" in the config.yaml file so that you have only high confidnece points plotted in the video. i.e. ~0.8 or 0.9. The current default is 0.4. "
   ]
  },
  {
   "cell_type": "markdown",
   "metadata": {
    "id": "pCrUvQIvoEKD"
   },
   "source": [
    "## Create labeled video\n",
    "\n",
    "This funtion is for visualiztion purpose and can be used to create a video in .mp4 format with labels predicted by the network. This video is saved in the same directory where the original video resides. \n",
    "\n",
    "**Note**: When passing a video folder, only \"avi\", \"mp4\", \"mov\", \"mpeg\", \"mkv\" are processed."
   ]
  },
  {
   "cell_type": "code",
   "execution_count": null,
   "metadata": {
    "execution": {
     "iopub.execute_input": "2022-08-29T08:24:46.649835Z",
     "iopub.status.busy": "2022-08-29T08:24:46.648859Z",
     "iopub.status.idle": "2022-08-29T08:32:08.001920Z",
     "shell.execute_reply": "2022-08-29T08:32:08.000096Z",
     "shell.execute_reply.started": "2022-08-29T08:24:46.649835Z"
    },
    "id": "6aDF7Q7KoEKE"
   },
   "outputs": [],
   "source": [
    "deeplabcut.create_labeled_video(\n",
    "    dlc_config_path,\n",
    "    dlc_videofile_paths\n",
    ")"
   ]
  }
 ],
 "metadata": {
  "accelerator": "GPU",
  "colab": {
   "collapsed_sections": [],
   "name": "DLC-Notebook-Template.ipynb",
   "provenance": []
  },
  "kernelspec": {
   "display_name": "Python 3.9.9 64-bit",
   "language": "python",
   "name": "python3"
  },
  "language_info": {
   "codemirror_mode": {
    "name": "ipython",
    "version": 3
   },
   "file_extension": ".py",
   "mimetype": "text/x-python",
   "name": "python",
   "nbconvert_exporter": "python",
   "pygments_lexer": "ipython3",
   "version": "3.9.9"
  },
  "vscode": {
   "interpreter": {
    "hash": "45d213fce5b2b99a037768f57daecc6389cba85061f09ae0e15dfa1cc3805fe6"
   }
  }
 },
 "nbformat": 4,
 "nbformat_minor": 4
}
