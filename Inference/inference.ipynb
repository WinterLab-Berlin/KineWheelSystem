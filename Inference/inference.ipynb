{
 "cells": [
  {
   "cell_type": "markdown",
   "metadata": {
    "id": "RK255E7YoEIt"
   },
   "source": [
    "# Inference\n",
    "\n",
    "Use this notebook to run inference in the Cloud (e.g., on Google Colab).\n",
    "\n",
    "On Google Colab, set runtime type too \"Python3\" and optionally select \"GPU\".\n",
    "A GPU is not required, but reduces the processing time."
   ]
  },
  {
   "cell_type": "code",
   "execution_count": null,
   "metadata": {},
   "outputs": [],
   "source": [
    "# Install deeplabcut (fixed, tested version)\n",
    "!pip install deeplabcut==2.2.2"
   ]
  },
  {
   "cell_type": "markdown",
   "metadata": {},
   "source": [
    "Now restart the runtime and then import the `deeplabcut` package by running the cell below."
   ]
  },
  {
   "cell_type": "code",
   "execution_count": null,
   "metadata": {},
   "outputs": [],
   "source": [
    "import deeplabcut"
   ]
  },
  {
   "cell_type": "markdown",
   "metadata": {
    "id": "RrPP8_6KdONJ"
   },
   "source": [
    "## Upload DLC project and configure it\n",
    "\n",
    "Upload the DLC project folder to the Google Colab instance.\n",
    "\n",
    "Modify the `config.yaml` in the project folder on Google Colab: set the `project_path` value to the path of the project folder on Google Colab.\n",
    "\n",
    "For instance, if your DLC project folder is named `DLC-Skeleton` and you have uploaded it to `/content` on Google Colab, then `/content/DLC-Skeleton/config.yaml` should look like this:\n",
    "\n",
    "```yml\n",
    "# Project path (change when moving around)\n",
    "project_path: /content/DLC-Skeleton\n",
    "```\n",
    "\n",
    "To reference the `config.yaml` file in the functions called below, modify the value in the cell below to point to the DLC config file on Google Colab. Then, run the cell."
   ]
  },
  {
   "cell_type": "code",
   "execution_count": null,
   "metadata": {},
   "outputs": [],
   "source": [
    "dlc_config_path = '/content/DLC-Skeleton/config.yaml'  # modify to match your environment"
   ]
  },
  {
   "cell_type": "markdown",
   "metadata": {
    "id": "OVFLSKKfoEJk"
   },
   "source": [
    "## Analyze videos\n",
    "\n",
    "First, upload the video(s) to analyze to Google Colab.\n",
    "Then, modify `video_paths` in the cell below to point to the video or video folder to analyze.\n",
    "\n",
    "Now, run the cell below. The results are stored in an HDF5 file in the same directory where the video resides and can be downloaded after the cell has finished execution."
   ]
  },
  {
   "cell_type": "code",
   "execution_count": null,
   "metadata": {
    "execution": {
     "iopub.execute_input": "2022-08-29T06:25:49.408697Z",
     "iopub.status.busy": "2022-08-29T06:25:49.407603Z",
     "iopub.status.idle": "2022-08-29T07:14:32.188008Z",
     "shell.execute_reply": "2022-08-29T07:14:32.186871Z",
     "shell.execute_reply.started": "2022-08-29T06:25:49.408619Z"
    },
    "id": "Y_LZiS_0oEJl"
   },
   "outputs": [],
   "source": [
    "# To analyze all videos in a particular folder, set the variable to the\n",
    "# absolute path of that folder.\n",
    "# To analyze specific videos, specify them as a list of absolute paths.\n",
    "video_paths = r'/path/to/video-folder'   # or: [r'/path/video1.mp4', ...]\n",
    "\n",
    "deeplabcut.analyze_videos(dlc_config_path, video_paths)"
   ]
  },
  {
   "cell_type": "markdown",
   "metadata": {
    "id": "pqaCw15v8EmB"
   },
   "source": [
    "Now you can look at the plot-poses file and check the \"plot-likelihood.png\" might want to change the \"p-cutoff\" in the `config.yaml` file so that you have only high confidence points plotted in the video. i.e. ~0.8 or 0.9 (default is 0.6)."
   ]
  },
  {
   "cell_type": "markdown",
   "metadata": {
    "id": "pCrUvQIvoEKD"
   },
   "source": [
    "## Create labeled video\n",
    "\n",
    "This function is for visualization purpose and can be used to create a video in .mp4 format with labels predicted by the network. This video is saved in the same directory where the original video resides and can be downloaded after the cell finished execution. \n",
    "\n",
    "**Note**: When passing a video folder, only \"avi\", \"mp4\", \"mov\", \"mpeg\", \"mkv\" are processed."
   ]
  },
  {
   "cell_type": "code",
   "execution_count": null,
   "metadata": {
    "execution": {
     "iopub.execute_input": "2022-08-29T08:24:46.649835Z",
     "iopub.status.busy": "2022-08-29T08:24:46.648859Z",
     "iopub.status.idle": "2022-08-29T08:32:08.001920Z",
     "shell.execute_reply": "2022-08-29T08:32:08.000096Z",
     "shell.execute_reply.started": "2022-08-29T08:24:46.649835Z"
    },
    "id": "6aDF7Q7KoEKE"
   },
   "outputs": [],
   "source": [
    "deeplabcut.create_labeled_video(\n",
    "    dlc_config_path,\n",
    "    dlc_videofile_paths\n",
    ")"
   ]
  }
 ],
 "metadata": {
  "accelerator": "GPU",
  "colab": {
   "collapsed_sections": [],
   "name": "DLC-Notebook-Template.ipynb",
   "provenance": []
  },
  "kernelspec": {
   "display_name": "Python 3.9.9 64-bit",
   "language": "python",
   "name": "python3"
  },
  "language_info": {
   "codemirror_mode": {
    "name": "ipython",
    "version": 3
   },
   "file_extension": ".py",
   "mimetype": "text/x-python",
   "name": "python",
   "nbconvert_exporter": "python",
   "pygments_lexer": "ipython3",
   "version": "3.9.9"
  },
  "vscode": {
   "interpreter": {
    "hash": "45d213fce5b2b99a037768f57daecc6389cba85061f09ae0e15dfa1cc3805fe6"
   }
  }
 },
 "nbformat": 4,
 "nbformat_minor": 4
}
